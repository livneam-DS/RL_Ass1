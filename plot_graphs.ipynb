{
 "cells": [
  {
   "cell_type": "code",
   "execution_count": 4,
   "metadata": {
    "collapsed": true,
    "jupyter": {
     "outputs_hidden": true
    }
   },
   "outputs": [
    {
     "name": "stderr",
     "output_type": "stream",
     "text": [
      "ERROR:root:Internal Python error in the inspect module.\n",
      "Below is the traceback from this internal error.\n",
      "\n"
     ]
    },
    {
     "name": "stdout",
     "output_type": "stream",
     "text": [
      "Traceback (most recent call last):\n",
      "  File \"/home/eliads/.conda/envs/eliad/lib/python3.7/site-packages/IPython/core/interactiveshell.py\", line 3319, in run_code\n",
      "    exec(code_obj, self.user_global_ns, self.user_ns)\n",
      "  File \"<ipython-input-4-8d8cc289f00e>\", line 42, in <module>\n",
      "    plt.show()\n",
      "  File \"/home/eliads/.conda/envs/eliad/lib/python3.7/site-packages/matplotlib/pyplot.py\", line 269, in show\n",
      "    return _show(*args, **kw)\n",
      "  File \"/home/eliads/.conda/envs/eliad/lib/python3.7/site-packages/ipykernel/pylab/backend_inline.py\", line 39, in show\n",
      "    metadata=_fetch_figure_metadata(figure_manager.canvas.figure)\n",
      "  File \"/home/eliads/.conda/envs/eliad/lib/python3.7/site-packages/IPython/core/display.py\", line 313, in display\n",
      "    format_dict, md_dict = format(obj, include=include, exclude=exclude)\n",
      "  File \"/home/eliads/.conda/envs/eliad/lib/python3.7/site-packages/IPython/core/formatters.py\", line 180, in format\n",
      "    data = formatter(obj)\n",
      "  File \"</home/eliads/.conda/envs/eliad/lib/python3.7/site-packages/decorator.py:decorator-gen-9>\", line 2, in __call__\n",
      "  File \"/home/eliads/.conda/envs/eliad/lib/python3.7/site-packages/IPython/core/formatters.py\", line 224, in catch_format_error\n",
      "    r = method(self, *args, **kwargs)\n",
      "  File \"/home/eliads/.conda/envs/eliad/lib/python3.7/site-packages/IPython/core/formatters.py\", line 341, in __call__\n",
      "    return printer(obj)\n",
      "  File \"/home/eliads/.conda/envs/eliad/lib/python3.7/site-packages/IPython/core/pylabtools.py\", line 244, in <lambda>\n",
      "    png_formatter.for_type(Figure, lambda fig: print_figure(fig, 'png', **kwargs))\n",
      "  File \"/home/eliads/.conda/envs/eliad/lib/python3.7/site-packages/IPython/core/pylabtools.py\", line 128, in print_figure\n",
      "    fig.canvas.print_figure(bytes_io, **kw)\n",
      "  File \"/home/eliads/.conda/envs/eliad/lib/python3.7/site-packages/matplotlib/backend_bases.py\", line 2063, in print_figure\n",
      "    **kwargs)\n",
      "  File \"/home/eliads/.conda/envs/eliad/lib/python3.7/site-packages/matplotlib/backends/backend_agg.py\", line 527, in print_png\n",
      "    FigureCanvasAgg.draw(self)\n",
      "  File \"/home/eliads/.conda/envs/eliad/lib/python3.7/site-packages/matplotlib/backends/backend_agg.py\", line 388, in draw\n",
      "    self.figure.draw(self.renderer)\n",
      "  File \"/home/eliads/.conda/envs/eliad/lib/python3.7/site-packages/matplotlib/artist.py\", line 38, in draw_wrapper\n",
      "    return draw(artist, renderer, *args, **kwargs)\n",
      "  File \"/home/eliads/.conda/envs/eliad/lib/python3.7/site-packages/matplotlib/figure.py\", line 1709, in draw\n",
      "    renderer, self, artists, self.suppressComposite)\n",
      "  File \"/home/eliads/.conda/envs/eliad/lib/python3.7/site-packages/matplotlib/image.py\", line 135, in _draw_list_compositing_images\n",
      "    a.draw(renderer)\n",
      "  File \"/home/eliads/.conda/envs/eliad/lib/python3.7/site-packages/matplotlib/artist.py\", line 38, in draw_wrapper\n",
      "    return draw(artist, renderer, *args, **kwargs)\n",
      "  File \"/home/eliads/.conda/envs/eliad/lib/python3.7/site-packages/matplotlib/axes/_base.py\", line 2647, in draw\n",
      "    mimage._draw_list_compositing_images(renderer, self, artists)\n",
      "  File \"/home/eliads/.conda/envs/eliad/lib/python3.7/site-packages/matplotlib/image.py\", line 135, in _draw_list_compositing_images\n",
      "    a.draw(renderer)\n",
      "  File \"/home/eliads/.conda/envs/eliad/lib/python3.7/site-packages/matplotlib/artist.py\", line 38, in draw_wrapper\n",
      "    return draw(artist, renderer, *args, **kwargs)\n",
      "  File \"/home/eliads/.conda/envs/eliad/lib/python3.7/site-packages/matplotlib/axis.py\", line 1208, in draw\n",
      "    tick.draw(renderer)\n",
      "  File \"/home/eliads/.conda/envs/eliad/lib/python3.7/site-packages/matplotlib/artist.py\", line 38, in draw_wrapper\n",
      "    return draw(artist, renderer, *args, **kwargs)\n",
      "  File \"/home/eliads/.conda/envs/eliad/lib/python3.7/site-packages/matplotlib/axis.py\", line 297, in draw\n",
      "    artist.draw(renderer)\n",
      "  File \"/home/eliads/.conda/envs/eliad/lib/python3.7/site-packages/matplotlib/artist.py\", line 38, in draw_wrapper\n",
      "    return draw(artist, renderer, *args, **kwargs)\n",
      "  File \"/home/eliads/.conda/envs/eliad/lib/python3.7/site-packages/matplotlib/text.py\", line 677, in draw\n",
      "    posx, posy = trans.transform_point((posx, posy))\n",
      "KeyboardInterrupt\n",
      "\n",
      "During handling of the above exception, another exception occurred:\n",
      "\n",
      "Traceback (most recent call last):\n",
      "  File \"/home/eliads/.conda/envs/eliad/lib/python3.7/site-packages/IPython/core/interactiveshell.py\", line 2034, in showtraceback\n",
      "    stb = value._render_traceback_()\n",
      "AttributeError: 'KeyboardInterrupt' object has no attribute '_render_traceback_'\n",
      "\n",
      "During handling of the above exception, another exception occurred:\n",
      "\n",
      "Traceback (most recent call last):\n",
      "  File \"/home/eliads/.conda/envs/eliad/lib/python3.7/site-packages/IPython/core/ultratb.py\", line 1151, in get_records\n",
      "    return _fixed_getinnerframes(etb, number_of_lines_of_context, tb_offset)\n",
      "  File \"/home/eliads/.conda/envs/eliad/lib/python3.7/site-packages/IPython/core/ultratb.py\", line 319, in wrapped\n",
      "    return f(*args, **kwargs)\n",
      "  File \"/home/eliads/.conda/envs/eliad/lib/python3.7/site-packages/IPython/core/ultratb.py\", line 353, in _fixed_getinnerframes\n",
      "    records = fix_frame_records_filenames(inspect.getinnerframes(etb, context))\n",
      "  File \"/home/eliads/.conda/envs/eliad/lib/python3.7/inspect.py\", line 1502, in getinnerframes\n",
      "    frameinfo = (tb.tb_frame,) + getframeinfo(tb, context)\n",
      "  File \"/home/eliads/.conda/envs/eliad/lib/python3.7/inspect.py\", line 1460, in getframeinfo\n",
      "    filename = getsourcefile(frame) or getfile(frame)\n",
      "  File \"/home/eliads/.conda/envs/eliad/lib/python3.7/inspect.py\", line 696, in getsourcefile\n",
      "    if getattr(getmodule(object, filename), '__loader__', None) is not None:\n",
      "  File \"/home/eliads/.conda/envs/eliad/lib/python3.7/inspect.py\", line 739, in getmodule\n",
      "    f = getabsfile(module)\n",
      "  File \"/home/eliads/.conda/envs/eliad/lib/python3.7/inspect.py\", line 708, in getabsfile\n",
      "    _filename = getsourcefile(object) or getfile(object)\n",
      "  File \"/home/eliads/.conda/envs/eliad/lib/python3.7/inspect.py\", line 693, in getsourcefile\n",
      "    if os.path.exists(filename):\n",
      "  File \"/home/eliads/.conda/envs/eliad/lib/python3.7/genericpath.py\", line 19, in exists\n",
      "    os.stat(path)\n",
      "KeyboardInterrupt\n"
     ]
    },
    {
     "ename": "KeyboardInterrupt",
     "evalue": "",
     "output_type": "error",
     "traceback": [
      "\u001b[0;31m---------------------------------------------------------------------------\u001b[0m"
     ]
    }
   ],
   "source": [
    "from IPython.display import clear_output\n",
    "from pylab import rcParams\n",
    "import matplotlib.pyplot as plt\n",
    "import time\n",
    "rcParams['figure.figsize'] = 16, 10\n",
    "import numpy as np\n",
    "\n",
    "def plot_rewards(folder):\n",
    "    rewards = []\n",
    "    epsilons = []\n",
    "    loss = []\n",
    "    \n",
    "    with open(f'{folder}/rewards.txt', 'r') as f:\n",
    "        for line in f:\n",
    "            rewards.append(float(line))\n",
    "    \n",
    "    \n",
    "    with open(f'{folder}/epsilons.txt', 'r') as f:\n",
    "        for line in f:\n",
    "            epsilons.append(float(line))\n",
    "    \n",
    "    with open(f'{folder}/loss.txt', 'r') as f:\n",
    "        for line in f:\n",
    "            loss.append(float(line))\n",
    "\n",
    "    return rewards, epsilons, loss\n",
    "\n",
    "while True:\n",
    "    fig, axs = plt.subplots(4)\n",
    "    fig.suptitle('Rewards Per Episode')\n",
    "    rewards, epsilons, losses = plot_rewards('res4_dueldqn')\n",
    "    avg = []\n",
    "    for i in range(100, len(rewards)):\n",
    "        avg.append(np.average(rewards[:i][-100:]))\n",
    "    \n",
    "    axs[0].plot(rewards)\n",
    "    axs[1].plot(epsilons)\n",
    "    axs[2].plot(avg)\n",
    "    axs[3].plot(losses)\n",
    "    \n",
    "    \n",
    "    plt.show()\n",
    "    time.sleep(0.05)\n",
    "    clear_output(wait=True)"
   ]
  },
  {
   "cell_type": "code",
   "execution_count": 6,
   "metadata": {},
   "outputs": [
    {
     "data": {
      "text/plain": [
       "474.67"
      ]
     },
     "execution_count": 6,
     "metadata": {},
     "output_type": "execute_result"
    }
   ],
   "source": [
    "avg[-1]"
   ]
  },
  {
   "cell_type": "code",
   "execution_count": null,
   "metadata": {},
   "outputs": [],
   "source": []
  }
 ],
 "metadata": {
  "kernelspec": {
   "display_name": "Python (eliad)",
   "language": "python",
   "name": "eliad"
  },
  "language_info": {
   "codemirror_mode": {
    "name": "ipython",
    "version": 3
   },
   "file_extension": ".py",
   "mimetype": "text/x-python",
   "name": "python",
   "nbconvert_exporter": "python",
   "pygments_lexer": "ipython3",
   "version": "3.7.5"
  }
 },
 "nbformat": 4,
 "nbformat_minor": 4
}
